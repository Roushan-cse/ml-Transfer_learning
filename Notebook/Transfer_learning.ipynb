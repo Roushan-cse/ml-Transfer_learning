{
 "cells": [
  {
   "cell_type": "markdown",
   "id": "07c8e372",
   "metadata": {},
   "source": [
    "Load Mnist Dataset"
   ]
  },
  {
   "cell_type": "code",
   "execution_count": 29,
   "id": "26f7303d",
   "metadata": {},
   "outputs": [],
   "source": [
    "import tensorflow as tf\n",
    "from tensorflow.keras.datasets import mnist"
   ]
  },
  {
   "cell_type": "code",
   "execution_count": 39,
   "id": "22c30ede",
   "metadata": {},
   "outputs": [],
   "source": [
    "(X_train,y_train),(X_test,y_test) = mnist.load_data()\n"
   ]
  },
  {
   "cell_type": "code",
   "execution_count": 40,
   "id": "4d7cd895",
   "metadata": {},
   "outputs": [],
   "source": [
    "from sklearn.model_selection import train_test_split"
   ]
  },
  {
   "cell_type": "code",
   "execution_count": 41,
   "id": "ef744967",
   "metadata": {},
   "outputs": [],
   "source": [
    "X_train,X_val,y_train,y_val = train_test_split(X_train,y_train,test_size=0.2)"
   ]
  },
  {
   "cell_type": "code",
   "execution_count": 44,
   "id": "ec67b3da",
   "metadata": {},
   "outputs": [
    {
     "data": {
      "text/plain": [
       "((48000, 28, 28), (48000,), (12000, 28, 28), (12000,))"
      ]
     },
     "execution_count": 44,
     "metadata": {},
     "output_type": "execute_result"
    }
   ],
   "source": [
    "X_train.shape,y_train.shape,X_val.shape,y_val.shape"
   ]
  },
  {
   "cell_type": "code",
   "execution_count": 66,
   "id": "1741c146",
   "metadata": {},
   "outputs": [],
   "source": [
    "train_data = tf.data.Dataset.from_tensor_slices((X_train, y_train))\n",
    "val_data = tf.data.Dataset.from_tensor_slices((X_val,y_val))"
   ]
  },
  {
   "cell_type": "code",
   "execution_count": 63,
   "id": "535b4356",
   "metadata": {},
   "outputs": [],
   "source": [
    "\n",
    "def image_preprocessing(image,label):\n",
    "    image = tf.stack([image]*3,axis=-1)\n",
    "    image = tf.image.convert_image_dtype(image,tf.float32)\n",
    "    image = tf.image.resize(image,[256,256])\n",
    "    label = tf.one_hot(label,depth = 10)\n",
    "    return image,label"
   ]
  },
  {
   "cell_type": "code",
   "execution_count": 68,
   "id": "0fcbf744",
   "metadata": {},
   "outputs": [],
   "source": [
    "train_data_p = train_data.map(image_preprocessing).prefetch(tf.data.AUTOTUNE).batch(64)\n",
    "val_data_p = val_data.map(image_preprocessing).prefetch(tf.data.AUTOTUNE).batch(64)"
   ]
  },
  {
   "cell_type": "code",
   "execution_count": null,
   "id": "0bf5fba3",
   "metadata": {},
   "outputs": [],
   "source": []
  },
  {
   "cell_type": "code",
   "execution_count": null,
   "id": "32dcf7a4",
   "metadata": {},
   "outputs": [],
   "source": []
  }
 ],
 "metadata": {
  "kernelspec": {
   "display_name": "myenv",
   "language": "python",
   "name": "python3"
  },
  "language_info": {
   "codemirror_mode": {
    "name": "ipython",
    "version": 3
   },
   "file_extension": ".py",
   "mimetype": "text/x-python",
   "name": "python",
   "nbconvert_exporter": "python",
   "pygments_lexer": "ipython3",
   "version": "3.12.10"
  }
 },
 "nbformat": 4,
 "nbformat_minor": 5
}
